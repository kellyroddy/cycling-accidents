{
 "cells": [
  {
   "cell_type": "code",
   "execution_count": 1,
   "metadata": {},
   "outputs": [],
   "source": [
    "import pandas as pd\n",
    "import numpy as np\n",
    "import matplotlib.pyplot as plt\n",
    "import seaborn as sns\n",
    "from datetime import datetime"
   ]
  },
  {
   "cell_type": "code",
   "execution_count": 2,
   "metadata": {},
   "outputs": [],
   "source": [
    "accidents_19 = pd.read_csv(\"Data/Road Safety Data - Accidents 2019.csv\", low_memory=False)\n",
    "accidents_18 = pd.read_csv(\"Data/dftRoadSafetyData_Accidents_2018.csv\", low_memory=False)\n",
    "accidents_17 = pd.read_csv(\"Data/dftRoadSafetyData_Accidents_2017.csv\", low_memory=False)\n",
    "accidents_16 = pd.read_csv(\"Data/dftRoadSafety_Accidents_2016.csv\", low_memory=False)\n",
    "accidents_15 = pd.read_csv(\"Data/Accidents_2015.csv\", low_memory=False)"
   ]
  },
  {
   "cell_type": "code",
   "execution_count": 3,
   "metadata": {},
   "outputs": [],
   "source": [
    "accidents_list = [accidents_19, accidents_18, accidents_17, accidents_16, accidents_15]\n",
    "accidents = pd.concat(accidents_list)"
   ]
  },
  {
   "cell_type": "code",
   "execution_count": 4,
   "metadata": {},
   "outputs": [],
   "source": [
    "vehicles_19 = pd.read_csv(\"Data/Road Safety Data- Vehicles 2019.csv\", low_memory=False)\n",
    "vehicles_18 = pd.read_csv(\"Data/dftRoadSafetyData_Vehicles_2018.csv\", low_memory=False)\n",
    "vehicles_17 = pd.read_csv(\"Data/dftRoadSafetyData_Vehicles_2017.csv\", low_memory=False)\n",
    "vehicles_16 = pd.read_csv(\"Data/dftRoadSafetyData_Vehicles_2016.csv\", low_memory=False)\n",
    "vehicles_15 = pd.read_csv(\"Data/Vehicles_2015.csv\", low_memory=False)"
   ]
  },
  {
   "cell_type": "code",
   "execution_count": 5,
   "metadata": {},
   "outputs": [],
   "source": [
    "vehicles_list = [vehicles_19, vehicles_18, vehicles_17, vehicles_16, vehicles_15]\n",
    "vehicles = pd.concat(vehicles_list)"
   ]
  },
  {
   "cell_type": "code",
   "execution_count": 6,
   "metadata": {},
   "outputs": [
    {
     "name": "stdout",
     "output_type": "stream",
     "text": [
      "<class 'pandas.core.frame.DataFrame'>\n",
      "Int64Index: 1192061 entries, 0 to 257844\n",
      "Data columns (total 23 columns):\n",
      " #   Column                            Non-Null Count    Dtype \n",
      "---  ------                            --------------    ----- \n",
      " 0   Accident_Index                    1192061 non-null  object\n",
      " 1   Vehicle_Reference                 1192061 non-null  int64 \n",
      " 2   Vehicle_Type                      1192061 non-null  int64 \n",
      " 3   Towing_and_Articulation           1192061 non-null  int64 \n",
      " 4   Vehicle_Manoeuvre                 1192061 non-null  int64 \n",
      " 5   Vehicle_Location-Restricted_Lane  1192061 non-null  int64 \n",
      " 6   Junction_Location                 1192061 non-null  int64 \n",
      " 7   Skidding_and_Overturning          1192061 non-null  int64 \n",
      " 8   Hit_Object_in_Carriageway         1192061 non-null  int64 \n",
      " 9   Vehicle_Leaving_Carriageway       1192061 non-null  int64 \n",
      " 10  Hit_Object_off_Carriageway        1192061 non-null  int64 \n",
      " 11  1st_Point_of_Impact               1192061 non-null  int64 \n",
      " 12  Was_Vehicle_Left_Hand_Drive?      1192061 non-null  int64 \n",
      " 13  Journey_Purpose_of_Driver         1192061 non-null  int64 \n",
      " 14  Sex_of_Driver                     1192061 non-null  int64 \n",
      " 15  Age_of_Driver                     1192061 non-null  int64 \n",
      " 16  Age_Band_of_Driver                1192061 non-null  int64 \n",
      " 17  Engine_Capacity_(CC)              1192061 non-null  int64 \n",
      " 18  Propulsion_Code                   1192061 non-null  int64 \n",
      " 19  Age_of_Vehicle                    1192061 non-null  int64 \n",
      " 20  Driver_IMD_Decile                 1192061 non-null  int64 \n",
      " 21  Driver_Home_Area_Type             1192061 non-null  int64 \n",
      " 22  Vehicle_IMD_Decile                1192061 non-null  int64 \n",
      "dtypes: int64(22), object(1)\n",
      "memory usage: 218.3+ MB\n"
     ]
    }
   ],
   "source": [
    "vehicles.info()"
   ]
  },
  {
   "cell_type": "code",
   "execution_count": 7,
   "metadata": {},
   "outputs": [],
   "source": [
    "# Filters accidents by any involving a pedal cycle\n",
    "cycles = vehicles[vehicles['Vehicle_Type'] == 1]\n",
    "indices = cycles['Accident_Index']\n",
    "cycle_accidents = accidents[accidents['Accident_Index'].isin(indices)]"
   ]
  },
  {
   "cell_type": "code",
   "execution_count": 8,
   "metadata": {
    "scrolled": true
   },
   "outputs": [
    {
     "name": "stdout",
     "output_type": "stream",
     "text": [
      "<class 'pandas.core.frame.DataFrame'>\n",
      "Int64Index: 91534 entries, 2 to 140046\n",
      "Data columns (total 32 columns):\n",
      " #   Column                                       Non-Null Count  Dtype  \n",
      "---  ------                                       --------------  -----  \n",
      " 0   Accident_Index                               91534 non-null  object \n",
      " 1   Location_Easting_OSGR                        91517 non-null  float64\n",
      " 2   Location_Northing_OSGR                       91517 non-null  float64\n",
      " 3   Longitude                                    91517 non-null  float64\n",
      " 4   Latitude                                     91517 non-null  float64\n",
      " 5   Police_Force                                 91534 non-null  int64  \n",
      " 6   Accident_Severity                            91534 non-null  int64  \n",
      " 7   Number_of_Vehicles                           91534 non-null  int64  \n",
      " 8   Number_of_Casualties                         91534 non-null  int64  \n",
      " 9   Date                                         91534 non-null  object \n",
      " 10  Day_of_Week                                  91534 non-null  int64  \n",
      " 11  Time                                         91522 non-null  object \n",
      " 12  Local_Authority_(District)                   91534 non-null  int64  \n",
      " 13  Local_Authority_(Highway)                    91534 non-null  object \n",
      " 14  1st_Road_Class                               91534 non-null  int64  \n",
      " 15  1st_Road_Number                              91534 non-null  int64  \n",
      " 16  Road_Type                                    91534 non-null  int64  \n",
      " 17  Speed_limit                                  91525 non-null  float64\n",
      " 18  Junction_Detail                              91534 non-null  int64  \n",
      " 19  Junction_Control                             91534 non-null  int64  \n",
      " 20  2nd_Road_Class                               91534 non-null  int64  \n",
      " 21  2nd_Road_Number                              91534 non-null  int64  \n",
      " 22  Pedestrian_Crossing-Human_Control            91534 non-null  int64  \n",
      " 23  Pedestrian_Crossing-Physical_Facilities      91534 non-null  int64  \n",
      " 24  Light_Conditions                             91534 non-null  int64  \n",
      " 25  Weather_Conditions                           91534 non-null  int64  \n",
      " 26  Road_Surface_Conditions                      91534 non-null  int64  \n",
      " 27  Special_Conditions_at_Site                   91534 non-null  int64  \n",
      " 28  Carriageway_Hazards                          91534 non-null  int64  \n",
      " 29  Urban_or_Rural_Area                          91534 non-null  int64  \n",
      " 30  Did_Police_Officer_Attend_Scene_of_Accident  91534 non-null  int64  \n",
      " 31  LSOA_of_Accident_Location                    87873 non-null  object \n",
      "dtypes: float64(5), int64(22), object(5)\n",
      "memory usage: 23.0+ MB\n"
     ]
    }
   ],
   "source": [
    "cycle_accidents.info()"
   ]
  },
  {
   "cell_type": "code",
   "execution_count": 9,
   "metadata": {},
   "outputs": [],
   "source": [
    "casualties_19 = pd.read_csv(\"Data/Road Safety Data - Casualties 2019.csv\", low_memory=False)\n",
    "casualties_18 = pd.read_csv(\"Data/dftRoadSafetyData_Casualties_2018.csv\", low_memory=False)\n",
    "casualties_17 = pd.read_csv(\"Data/dftRoadSafetyData_Casualties_2017.csv\", low_memory=False)\n",
    "casualties_16 = pd.read_csv(\"Data/dftRoadSafetyData_Casualties_2016.csv\", low_memory=False)\n",
    "casualties_15 = pd.read_csv(\"Data/Casualties_2015.csv\", low_memory=False)"
   ]
  },
  {
   "cell_type": "code",
   "execution_count": 10,
   "metadata": {},
   "outputs": [
    {
     "name": "stdout",
     "output_type": "stream",
     "text": [
      "<class 'pandas.core.frame.DataFrame'>\n",
      "Int64Index: 852321 entries, 0 to 186188\n",
      "Data columns (total 16 columns):\n",
      " #   Column                              Non-Null Count   Dtype \n",
      "---  ------                              --------------   ----- \n",
      " 0   Accident_Index                      852321 non-null  object\n",
      " 1   Vehicle_Reference                   852321 non-null  int64 \n",
      " 2   Casualty_Reference                  852321 non-null  int64 \n",
      " 3   Casualty_Class                      852321 non-null  int64 \n",
      " 4   Sex_of_Casualty                     852321 non-null  int64 \n",
      " 5   Age_of_Casualty                     852321 non-null  int64 \n",
      " 6   Age_Band_of_Casualty                852321 non-null  int64 \n",
      " 7   Casualty_Severity                   852321 non-null  int64 \n",
      " 8   Pedestrian_Location                 852321 non-null  int64 \n",
      " 9   Pedestrian_Movement                 852321 non-null  int64 \n",
      " 10  Car_Passenger                       852321 non-null  int64 \n",
      " 11  Bus_or_Coach_Passenger              852321 non-null  int64 \n",
      " 12  Pedestrian_Road_Maintenance_Worker  852321 non-null  int64 \n",
      " 13  Casualty_Type                       852321 non-null  int64 \n",
      " 14  Casualty_Home_Area_Type             852321 non-null  int64 \n",
      " 15  Casualty_IMD_Decile                 852321 non-null  int64 \n",
      "dtypes: int64(15), object(1)\n",
      "memory usage: 110.5+ MB\n"
     ]
    }
   ],
   "source": [
    "casualties_list = [casualties_19, casualties_18, casualties_17, casualties_16, casualties_15]\n",
    "casualties = pd.concat(casualties_list)\n",
    "casualties.info()"
   ]
  },
  {
   "cell_type": "code",
   "execution_count": 11,
   "metadata": {},
   "outputs": [
    {
     "data": {
      "text/plain": [
       "55"
      ]
     },
     "execution_count": 11,
     "metadata": {},
     "output_type": "execute_result"
    }
   ],
   "source": [
    "# Accidents that involved pedal cycle but casualty was not cyclist\n",
    "references = cycles['Vehicle_Reference']\n",
    "other_casualties = casualties[~casualties['Vehicle_Reference'].isin(references)]\n",
    "len(other_casualties['Casualty_Type'])"
   ]
  },
  {
   "cell_type": "code",
   "execution_count": 12,
   "metadata": {},
   "outputs": [
    {
     "data": {
      "image/png": "[encoded data removed]",
      "text/plain": [
       "<Figure size 432x288 with 1 Axes>"
      ]
     },
     "metadata": {
      "needs_background": "light"
     },
     "output_type": "display_data"
    }
   ],
   "source": [
    "var1 = cycle_accidents['Accident_Severity'].value_counts().reset_index()\n",
    "plt.bar(var1['index'], var1['Accident_Severity'])\n",
    "plt.show()"
   ]
  },
  {
   "cell_type": "code",
   "execution_count": 13,
   "metadata": {},
   "outputs": [
    {
     "data": {
      "image/png": "[encoded data removed]",
      "text/plain": [
       "<Figure size 432x288 with 1 Axes>"
      ]
     },
     "metadata": {
      "needs_background": "light"
     },
     "output_type": "display_data"
    }
   ],
   "source": [
    "var1 = cycle_accidents['Number_of_Vehicles'].value_counts().reset_index()\n",
    "plt.bar(var1['index'], var1['Number_of_Vehicles'])\n",
    "plt.show()"
   ]
  },
  {
   "cell_type": "code",
   "execution_count": 14,
   "metadata": {
    "scrolled": true
   },
   "outputs": [
    {
     "data": {
      "image/png": "[encoded data removed]",
      "text/plain": [
       "<Figure size 432x288 with 1 Axes>"
      ]
     },
     "metadata": {
      "needs_background": "light"
     },
     "output_type": "display_data"
    }
   ],
   "source": [
    "var1 = cycle_accidents['Number_of_Casualties'].value_counts().reset_index()\n",
    "plt.bar(var1['index'], var1['Number_of_Casualties'])\n",
    "plt.show()"
   ]
  },
  {
   "cell_type": "code",
   "execution_count": 15,
   "metadata": {},
   "outputs": [
    {
     "name": "stderr",
     "output_type": "stream",
     "text": [
      "C:\\Users\\kelly\\anaconda3\\lib\\site-packages\\pandas\\core\\indexing.py:1596: SettingWithCopyWarning: \n",
      "A value is trying to be set on a copy of a slice from a DataFrame.\n",
      "Try using .loc[row_indexer,col_indexer] = value instead\n",
      "\n",
      "See the caveats in the documentation: https://pandas.pydata.org/pandas-docs/stable/user_guide/indexing.html#returning-a-view-versus-a-copy\n",
      "  self.obj[key] = _infer_fill_value(value)\n",
      "C:\\Users\\kelly\\anaconda3\\lib\\site-packages\\pandas\\core\\indexing.py:1745: SettingWithCopyWarning: \n",
      "A value is trying to be set on a copy of a slice from a DataFrame.\n",
      "Try using .loc[row_indexer,col_indexer] = value instead\n",
      "\n",
      "See the caveats in the documentation: https://pandas.pydata.org/pandas-docs/stable/user_guide/indexing.html#returning-a-view-versus-a-copy\n",
      "  isetter(ilocs[0], value)\n"
     ]
    }
   ],
   "source": [
    "cycle_accidents.loc[:,'Month'] = pd.to_datetime(cycle_accidents.loc[:,'Date'], format='%d/%m/%Y')\n",
    "cycle_accidents.loc[:,'Month'] = cycle_accidents.loc[:,'Month'].dt.month"
   ]
  },
  {
   "cell_type": "code",
   "execution_count": 16,
   "metadata": {},
   "outputs": [
    {
     "data": {
      "image/png": "[encoded data removed]",
      "text/plain": [
       "<Figure size 432x288 with 1 Axes>"
      ]
     },
     "metadata": {
      "needs_background": "light"
     },
     "output_type": "display_data"
    }
   ],
   "source": [
    "var1 = cycle_accidents['Month'].value_counts().reset_index()\n",
    "plt.bar(var1['index'], var1['Month'])\n",
    "plt.show()"
   ]
  },
  {
   "cell_type": "code",
   "execution_count": 17,
   "metadata": {},
   "outputs": [
    {
     "data": {
      "image/png": "[encoded data removed]",
      "text/plain": [
       "<Figure size 432x288 with 1 Axes>"
      ]
     },
     "metadata": {
      "needs_background": "light"
     },
     "output_type": "display_data"
    }
   ],
   "source": [
    "var1 = cycle_accidents['Day_of_Week'].value_counts().reset_index()\n",
    "plt.bar(var1['index'], var1['Day_of_Week'])\n",
    "plt.show()"
   ]
  },
  {
   "cell_type": "code",
   "execution_count": 58,
   "metadata": {
    "scrolled": true
   },
   "outputs": [],
   "source": [
    "times = cycle_accidents['Time'].dropna()\n",
    "times = times.astype(str)\n",
    "times = times.str.replace(\":\", \"\")\n",
    "times = times.apply(float)"
   ]
  },
  {
   "cell_type": "code",
   "execution_count": 60,
   "metadata": {},
   "outputs": [
    {
     "data": {
      "image/png": "[encoded data removed]",
      "text/plain": [
       "<Figure size 432x288 with 1 Axes>"
      ]
     },
     "metadata": {
      "needs_background": "light"
     },
     "output_type": "display_data"
    }
   ],
   "source": [
    "plt.hist(times, bins=12)\n",
    "plt.show()"
   ]
  }
 ],
 "metadata": {
  "kernelspec": {
   "display_name": "Python 3",
   "language": "python",
   "name": "python3"
  },
  "language_info": {
   "codemirror_mode": {
    "name": "ipython",
    "version": 3
   },
   "file_extension": ".py",
   "mimetype": "text/x-python",
   "name": "python",
   "nbconvert_exporter": "python",
   "pygments_lexer": "ipython3",
   "version": "3.8.5"
  }
 },
 "nbformat": 4,
 "nbformat_minor": 4
}
